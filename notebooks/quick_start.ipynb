{
 "cells": [
  {
   "cell_type": "code",
   "execution_count": 1,
   "id": "vanilla-alert",
   "metadata": {},
   "outputs": [],
   "source": [
    "import os,sys,inspect\n",
    "currentdir = os.path.dirname(os.path.abspath(inspect.getfile(inspect.currentframe())))\n",
    "parentdir = os.path.dirname(currentdir)\n",
    "sys.path.insert(0,parentdir) \n",
    "import genomicsurveillance as gs\n",
    "import pandas as pd\n",
    "import numpy as np\n",
    "import matplotlib.pyplot as plt"
   ]
  },
  {
   "cell_type": "code",
   "execution_count": 2,
   "id": "brief-beverage",
   "metadata": {},
   "outputs": [],
   "source": [
    "from genomicsurveillance.data import *"
   ]
  },
  {
   "cell_type": "code",
   "execution_count": 3,
   "id": "ranging-outreach",
   "metadata": {},
   "outputs": [],
   "source": [
    "uk = get_meta_data()"
   ]
  },
  {
   "cell_type": "code",
   "execution_count": 4,
   "id": "irish-chance",
   "metadata": {},
   "outputs": [
    {
     "data": {
      "text/html": [
       "<div>\n",
       "<style scoped>\n",
       "    .dataframe tbody tr th:only-of-type {\n",
       "        vertical-align: middle;\n",
       "    }\n",
       "\n",
       "    .dataframe tbody tr th {\n",
       "        vertical-align: top;\n",
       "    }\n",
       "\n",
       "    .dataframe thead th {\n",
       "        text-align: right;\n",
       "    }\n",
       "</style>\n",
       "<table border=\"1\" class=\"dataframe\">\n",
       "  <thead>\n",
       "    <tr style=\"text-align: right;\">\n",
       "      <th></th>\n",
       "      <th>pop18</th>\n",
       "      <th>lad19cd</th>\n",
       "      <th>lad19nm</th>\n",
       "      <th>lad19id</th>\n",
       "      <th>utla19cd</th>\n",
       "      <th>utla19nm</th>\n",
       "      <th>utla19id</th>\n",
       "      <th>rgn19cd</th>\n",
       "      <th>rgn19nm</th>\n",
       "      <th>rgn19id</th>\n",
       "      <th>ctry19cd</th>\n",
       "      <th>ctry19nm</th>\n",
       "      <th>ctry19id</th>\n",
       "    </tr>\n",
       "  </thead>\n",
       "  <tbody>\n",
       "    <tr>\n",
       "      <th>0</th>\n",
       "      <td>93242</td>\n",
       "      <td>E06000001</td>\n",
       "      <td>Hartlepool</td>\n",
       "      <td>0</td>\n",
       "      <td>E06000001</td>\n",
       "      <td>Hartlepool</td>\n",
       "      <td>0</td>\n",
       "      <td>E12000001</td>\n",
       "      <td>North East</td>\n",
       "      <td>0</td>\n",
       "      <td>E92000001</td>\n",
       "      <td>England</td>\n",
       "      <td>0</td>\n",
       "    </tr>\n",
       "    <tr>\n",
       "      <th>1</th>\n",
       "      <td>140545</td>\n",
       "      <td>E06000002</td>\n",
       "      <td>Middlesbrough</td>\n",
       "      <td>1</td>\n",
       "      <td>E06000002</td>\n",
       "      <td>Middlesbrough</td>\n",
       "      <td>0</td>\n",
       "      <td>E12000001</td>\n",
       "      <td>North East</td>\n",
       "      <td>0</td>\n",
       "      <td>E92000001</td>\n",
       "      <td>England</td>\n",
       "      <td>0</td>\n",
       "    </tr>\n",
       "    <tr>\n",
       "      <th>2</th>\n",
       "      <td>136718</td>\n",
       "      <td>E06000003</td>\n",
       "      <td>Redcar and Cleveland</td>\n",
       "      <td>2</td>\n",
       "      <td>E06000003</td>\n",
       "      <td>Redcar and Cleveland</td>\n",
       "      <td>0</td>\n",
       "      <td>E12000001</td>\n",
       "      <td>North East</td>\n",
       "      <td>0</td>\n",
       "      <td>E92000001</td>\n",
       "      <td>England</td>\n",
       "      <td>0</td>\n",
       "    </tr>\n",
       "    <tr>\n",
       "      <th>3</th>\n",
       "      <td>197213</td>\n",
       "      <td>E06000004</td>\n",
       "      <td>Stockton-on-Tees</td>\n",
       "      <td>3</td>\n",
       "      <td>E06000004</td>\n",
       "      <td>Stockton-on-Tees</td>\n",
       "      <td>0</td>\n",
       "      <td>E12000001</td>\n",
       "      <td>North East</td>\n",
       "      <td>0</td>\n",
       "      <td>E92000001</td>\n",
       "      <td>England</td>\n",
       "      <td>0</td>\n",
       "    </tr>\n",
       "    <tr>\n",
       "      <th>4</th>\n",
       "      <td>106566</td>\n",
       "      <td>E06000005</td>\n",
       "      <td>Darlington</td>\n",
       "      <td>4</td>\n",
       "      <td>E06000005</td>\n",
       "      <td>Darlington</td>\n",
       "      <td>0</td>\n",
       "      <td>E12000001</td>\n",
       "      <td>North East</td>\n",
       "      <td>0</td>\n",
       "      <td>E92000001</td>\n",
       "      <td>England</td>\n",
       "      <td>0</td>\n",
       "    </tr>\n",
       "  </tbody>\n",
       "</table>\n",
       "</div>"
      ],
      "text/plain": [
       "    pop18    lad19cd               lad19nm  lad19id   utla19cd  \\\n",
       "0   93242  E06000001            Hartlepool        0  E06000001   \n",
       "1  140545  E06000002         Middlesbrough        1  E06000002   \n",
       "2  136718  E06000003  Redcar and Cleveland        2  E06000003   \n",
       "3  197213  E06000004      Stockton-on-Tees        3  E06000004   \n",
       "4  106566  E06000005            Darlington        4  E06000005   \n",
       "\n",
       "               utla19nm  utla19id    rgn19cd     rgn19nm  rgn19id   ctry19cd  \\\n",
       "0            Hartlepool         0  E12000001  North East        0  E92000001   \n",
       "1         Middlesbrough         0  E12000001  North East        0  E92000001   \n",
       "2  Redcar and Cleveland         0  E12000001  North East        0  E92000001   \n",
       "3      Stockton-on-Tees         0  E12000001  North East        0  E92000001   \n",
       "4            Darlington         0  E12000001  North East        0  E92000001   \n",
       "\n",
       "  ctry19nm  ctry19id  \n",
       "0  England         0  \n",
       "1  England         0  \n",
       "2  England         0  \n",
       "3  England         0  \n",
       "4  England         0  "
      ]
     },
     "execution_count": 4,
     "metadata": {},
     "output_type": "execute_result"
    }
   ],
   "source": [
    "uk.head()"
   ]
  },
  {
   "cell_type": "code",
   "execution_count": 5,
   "id": "beginning-custody",
   "metadata": {},
   "outputs": [],
   "source": [
    "eng = uk[uk.ctry19nm == 'England']"
   ]
  },
  {
   "cell_type": "markdown",
   "id": "laden-lover",
   "metadata": {},
   "source": [
    "# Data preparation\n",
    "## Cases"
   ]
  },
  {
   "cell_type": "code",
   "execution_count": 6,
   "id": "pressed-liver",
   "metadata": {},
   "outputs": [],
   "source": [
    "import genomicsurveillance"
   ]
  },
  {
   "cell_type": "code",
   "execution_count": 7,
   "id": "dramatic-hebrew",
   "metadata": {},
   "outputs": [],
   "source": [
    "# cases = get_specimen() \n",
    "cases = pd.read_csv('specimen-20210304.csv', index_col=0)"
   ]
  },
  {
   "cell_type": "code",
   "execution_count": 8,
   "id": "cutting-vertical",
   "metadata": {},
   "outputs": [
    {
     "data": {
      "text/html": [
       "<div>\n",
       "<style scoped>\n",
       "    .dataframe tbody tr th:only-of-type {\n",
       "        vertical-align: middle;\n",
       "    }\n",
       "\n",
       "    .dataframe tbody tr th {\n",
       "        vertical-align: top;\n",
       "    }\n",
       "\n",
       "    .dataframe thead th {\n",
       "        text-align: right;\n",
       "    }\n",
       "</style>\n",
       "<table border=\"1\" class=\"dataframe\">\n",
       "  <thead>\n",
       "    <tr style=\"text-align: right;\">\n",
       "      <th></th>\n",
       "      <th>2020-01-03</th>\n",
       "      <th>2020-01-04</th>\n",
       "      <th>2020-01-05</th>\n",
       "      <th>2020-01-06</th>\n",
       "      <th>2020-01-07</th>\n",
       "      <th>2020-01-08</th>\n",
       "      <th>2020-01-09</th>\n",
       "      <th>2020-01-10</th>\n",
       "      <th>2020-01-11</th>\n",
       "      <th>2020-01-12</th>\n",
       "      <th>...</th>\n",
       "      <th>2021-02-22</th>\n",
       "      <th>2021-02-23</th>\n",
       "      <th>2021-02-24</th>\n",
       "      <th>2021-02-25</th>\n",
       "      <th>2021-02-26</th>\n",
       "      <th>2021-02-27</th>\n",
       "      <th>2021-02-28</th>\n",
       "      <th>2021-03-01</th>\n",
       "      <th>2021-03-02</th>\n",
       "      <th>2021-03-03</th>\n",
       "    </tr>\n",
       "  </thead>\n",
       "  <tbody>\n",
       "    <tr>\n",
       "      <th>E06000001</th>\n",
       "      <td>NaN</td>\n",
       "      <td>NaN</td>\n",
       "      <td>NaN</td>\n",
       "      <td>NaN</td>\n",
       "      <td>NaN</td>\n",
       "      <td>NaN</td>\n",
       "      <td>NaN</td>\n",
       "      <td>NaN</td>\n",
       "      <td>NaN</td>\n",
       "      <td>NaN</td>\n",
       "      <td>...</td>\n",
       "      <td>32.0</td>\n",
       "      <td>20.0</td>\n",
       "      <td>21.0</td>\n",
       "      <td>26.0</td>\n",
       "      <td>15.0</td>\n",
       "      <td>13.0</td>\n",
       "      <td>5.0</td>\n",
       "      <td>19.0</td>\n",
       "      <td>5.0</td>\n",
       "      <td>NaN</td>\n",
       "    </tr>\n",
       "    <tr>\n",
       "      <th>E06000002</th>\n",
       "      <td>NaN</td>\n",
       "      <td>NaN</td>\n",
       "      <td>NaN</td>\n",
       "      <td>NaN</td>\n",
       "      <td>NaN</td>\n",
       "      <td>NaN</td>\n",
       "      <td>NaN</td>\n",
       "      <td>NaN</td>\n",
       "      <td>NaN</td>\n",
       "      <td>NaN</td>\n",
       "      <td>...</td>\n",
       "      <td>44.0</td>\n",
       "      <td>24.0</td>\n",
       "      <td>33.0</td>\n",
       "      <td>30.0</td>\n",
       "      <td>32.0</td>\n",
       "      <td>20.0</td>\n",
       "      <td>16.0</td>\n",
       "      <td>28.0</td>\n",
       "      <td>12.0</td>\n",
       "      <td>NaN</td>\n",
       "    </tr>\n",
       "    <tr>\n",
       "      <th>E06000003</th>\n",
       "      <td>NaN</td>\n",
       "      <td>NaN</td>\n",
       "      <td>NaN</td>\n",
       "      <td>NaN</td>\n",
       "      <td>NaN</td>\n",
       "      <td>NaN</td>\n",
       "      <td>NaN</td>\n",
       "      <td>NaN</td>\n",
       "      <td>NaN</td>\n",
       "      <td>NaN</td>\n",
       "      <td>...</td>\n",
       "      <td>31.0</td>\n",
       "      <td>16.0</td>\n",
       "      <td>25.0</td>\n",
       "      <td>16.0</td>\n",
       "      <td>12.0</td>\n",
       "      <td>15.0</td>\n",
       "      <td>11.0</td>\n",
       "      <td>18.0</td>\n",
       "      <td>6.0</td>\n",
       "      <td>NaN</td>\n",
       "    </tr>\n",
       "    <tr>\n",
       "      <th>E06000004</th>\n",
       "      <td>NaN</td>\n",
       "      <td>NaN</td>\n",
       "      <td>NaN</td>\n",
       "      <td>NaN</td>\n",
       "      <td>NaN</td>\n",
       "      <td>NaN</td>\n",
       "      <td>NaN</td>\n",
       "      <td>NaN</td>\n",
       "      <td>NaN</td>\n",
       "      <td>NaN</td>\n",
       "      <td>...</td>\n",
       "      <td>48.0</td>\n",
       "      <td>32.0</td>\n",
       "      <td>43.0</td>\n",
       "      <td>36.0</td>\n",
       "      <td>23.0</td>\n",
       "      <td>24.0</td>\n",
       "      <td>19.0</td>\n",
       "      <td>28.0</td>\n",
       "      <td>8.0</td>\n",
       "      <td>NaN</td>\n",
       "    </tr>\n",
       "    <tr>\n",
       "      <th>E06000005</th>\n",
       "      <td>NaN</td>\n",
       "      <td>NaN</td>\n",
       "      <td>NaN</td>\n",
       "      <td>NaN</td>\n",
       "      <td>NaN</td>\n",
       "      <td>NaN</td>\n",
       "      <td>NaN</td>\n",
       "      <td>NaN</td>\n",
       "      <td>NaN</td>\n",
       "      <td>NaN</td>\n",
       "      <td>...</td>\n",
       "      <td>42.0</td>\n",
       "      <td>7.0</td>\n",
       "      <td>22.0</td>\n",
       "      <td>22.0</td>\n",
       "      <td>24.0</td>\n",
       "      <td>10.0</td>\n",
       "      <td>7.0</td>\n",
       "      <td>24.0</td>\n",
       "      <td>9.0</td>\n",
       "      <td>NaN</td>\n",
       "    </tr>\n",
       "  </tbody>\n",
       "</table>\n",
       "<p>5 rows × 426 columns</p>\n",
       "</div>"
      ],
      "text/plain": [
       "           2020-01-03  2020-01-04  2020-01-05  2020-01-06  2020-01-07  \\\n",
       "E06000001         NaN         NaN         NaN         NaN         NaN   \n",
       "E06000002         NaN         NaN         NaN         NaN         NaN   \n",
       "E06000003         NaN         NaN         NaN         NaN         NaN   \n",
       "E06000004         NaN         NaN         NaN         NaN         NaN   \n",
       "E06000005         NaN         NaN         NaN         NaN         NaN   \n",
       "\n",
       "           2020-01-08  2020-01-09  2020-01-10  2020-01-11  2020-01-12  ...  \\\n",
       "E06000001         NaN         NaN         NaN         NaN         NaN  ...   \n",
       "E06000002         NaN         NaN         NaN         NaN         NaN  ...   \n",
       "E06000003         NaN         NaN         NaN         NaN         NaN  ...   \n",
       "E06000004         NaN         NaN         NaN         NaN         NaN  ...   \n",
       "E06000005         NaN         NaN         NaN         NaN         NaN  ...   \n",
       "\n",
       "           2021-02-22  2021-02-23  2021-02-24  2021-02-25  2021-02-26  \\\n",
       "E06000001        32.0        20.0        21.0        26.0        15.0   \n",
       "E06000002        44.0        24.0        33.0        30.0        32.0   \n",
       "E06000003        31.0        16.0        25.0        16.0        12.0   \n",
       "E06000004        48.0        32.0        43.0        36.0        23.0   \n",
       "E06000005        42.0         7.0        22.0        22.0        24.0   \n",
       "\n",
       "           2021-02-27  2021-02-28  2021-03-01  2021-03-02  2021-03-03  \n",
       "E06000001        13.0         5.0        19.0         5.0         NaN  \n",
       "E06000002        20.0        16.0        28.0        12.0         NaN  \n",
       "E06000003        15.0        11.0        18.0         6.0         NaN  \n",
       "E06000004        24.0        19.0        28.0         8.0         NaN  \n",
       "E06000005        10.0         7.0        24.0         9.0         NaN  \n",
       "\n",
       "[5 rows x 426 columns]"
      ]
     },
     "execution_count": 8,
     "metadata": {},
     "output_type": "execute_result"
    }
   ],
   "source": [
    "cases.head()"
   ]
  },
  {
   "cell_type": "code",
   "execution_count": 9,
   "id": "injured-legislature",
   "metadata": {},
   "outputs": [],
   "source": [
    "cases = eng.merge(cases, left_on='lad19cd', right_index=True, how='left').iloc[:, -184:-4].values"
   ]
  },
  {
   "cell_type": "code",
   "execution_count": 10,
   "id": "frozen-security",
   "metadata": {},
   "outputs": [
    {
     "data": {
      "text/plain": [
       "(317, 180)"
      ]
     },
     "execution_count": 10,
     "metadata": {},
     "output_type": "execute_result"
    }
   ],
   "source": [
    "cases.shape"
   ]
  },
  {
   "cell_type": "markdown",
   "id": "random-settlement",
   "metadata": {},
   "source": [
    "## Lineages"
   ]
  },
  {
   "cell_type": "code",
   "execution_count": 11,
   "id": "pursuant-scheduling",
   "metadata": {},
   "outputs": [],
   "source": [
    "lineages = (pd.read_csv('latest.txt', index_col=0)\n",
    "            .melt(\"WeekEndDate\", var_name=\"loc\", value_name=\"samples\")\n",
    "            .assign(location=lambda df: df[\"loc\"].apply(lambda x: x.split(\"_\")[0]))\n",
    "            .assign(lineage=lambda df: df[\"loc\"].apply(lambda x: \"_\".join(x.split(\"_\")[1:])))\n",
    "            .drop(\"loc\", 1))"
   ]
  },
  {
   "cell_type": "code",
   "execution_count": 12,
   "id": "nearby-projection",
   "metadata": {},
   "outputs": [],
   "source": [
    "lineage_dates = lineages.WeekEndDate.unique().tolist()\n",
    "lineages_types = lineages.lineage.unique().tolist()"
   ]
  },
  {
   "cell_type": "code",
   "execution_count": 13,
   "id": "celtic-continuity",
   "metadata": {},
   "outputs": [],
   "source": [
    "lineages = np.stack([\n",
    "    (lineages[lineages.lineage == lineages_types[i]]\n",
    "     .pivot(values=\"samples\", index=\"location\", columns=\"WeekEndDate\")\n",
    "     .merge(eng, left_index=True, right_on='lad19cd', how='right')\n",
    "     .loc[:, lineage_dates[2:]]\n",
    "     .values\n",
    "    )\n",
    "     for i in range(0, len(lineages_types))], -1\n",
    ")"
   ]
  },
  {
   "cell_type": "code",
   "execution_count": 14,
   "id": "governing-resource",
   "metadata": {},
   "outputs": [],
   "source": [
    "lineage_date_idx = np.array([gs.create_date_list(cases.shape[1], '2020-09-01').index(date) for date in lineage_dates[2:]])"
   ]
  },
  {
   "cell_type": "code",
   "execution_count": 15,
   "id": "raised-journey",
   "metadata": {},
   "outputs": [],
   "source": [
    "max_lineages = 5\n",
    "lineages_red = np.concatenate([lineages[..., :max_lineages], lineages[..., max_lineages:].sum(-1, keepdims=True)], -1)"
   ]
  },
  {
   "cell_type": "code",
   "execution_count": 16,
   "id": "common-auckland",
   "metadata": {},
   "outputs": [
    {
     "data": {
      "text/plain": [
       "array([[ 0.,  3.,  1., ...,  0.,  0.,  2.],\n",
       "       [ 6., 12.,  4., ...,  0.,  0.,  0.],\n",
       "       [ 3.,  4.,  1., ...,  0.,  0.,  0.],\n",
       "       ...,\n",
       "       [ 5.,  4.,  4., ...,  0.,  0.,  0.],\n",
       "       [ 8., 10.,  4., ...,  0.,  0.,  0.],\n",
       "       [ 1.,  4.,  4., ...,  0.,  0.,  0.]])"
      ]
     },
     "execution_count": 16,
     "metadata": {},
     "output_type": "execute_result"
    }
   ],
   "source": [
    "lineages_red[..., -1]"
   ]
  },
  {
   "cell_type": "code",
   "execution_count": 19,
   "id": "endangered-disposition",
   "metadata": {},
   "outputs": [],
   "source": [
    "model = gs.MultiLineage(cases, lineages_red, lineage_date_idx, eng.pop18.values, regions=[eng.rgn19id.values], log_freq=1000,\n",
    "                                   tau=5, rng_key=343)"
   ]
  },
  {
   "cell_type": "code",
   "execution_count": null,
   "id": "impressed-rough",
   "metadata": {},
   "outputs": [],
   "source": []
  },
  {
   "cell_type": "code",
   "execution_count": null,
   "id": "revolutionary-norfolk",
   "metadata": {},
   "outputs": [],
   "source": [
    "model.fit()"
   ]
  },
  {
   "cell_type": "code",
   "execution_count": 19,
   "id": "absolute-couple",
   "metadata": {},
   "outputs": [
    {
     "data": {
      "text/plain": [
       "[<matplotlib.lines.Line2D at 0x110ba6d00>]"
      ]
     },
     "execution_count": 19,
     "metadata": {},
     "output_type": "execute_result"
    },
    {
     "data": {
      "image/png": "[encoded data removed]",
      "text/plain": [
       "<Figure size 432x288 with 1 Axes>"
      ]
     },
     "metadata": {
      "needs_background": "light"
     },
     "output_type": "display_data"
    }
   ],
   "source": [
    "plt.semilogy(model.loss)"
   ]
  },
  {
   "cell_type": "markdown",
   "id": "absolute-logistics",
   "metadata": {},
   "source": [
    "## dump fitted paramters"
   ]
  },
  {
   "cell_type": "code",
   "execution_count": 21,
   "id": "approved-commissioner",
   "metadata": {},
   "outputs": [],
   "source": [
    "model.dump_params('fitted_params.pkl')"
   ]
  },
  {
   "cell_type": "markdown",
   "id": "atlantic-latex",
   "metadata": {},
   "source": [
    "## load params"
   ]
  },
  {
   "cell_type": "code",
   "execution_count": 22,
   "id": "saved-listing",
   "metadata": {},
   "outputs": [],
   "source": [
    "new_model = gs.IndependentMultiLineage(cases, lineages_red, lineage_date_idx, eng.pop18.values, \n",
    "                                   regions=[uk[uk.ctry19id==0].rgn19id.values, uk[uk.ctry19id==0].ctry19id.values], log_freq=1000,\n",
    "                                   tau=5, rng_key=343)"
   ]
  },
  {
   "cell_type": "code",
   "execution_count": 23,
   "id": "agreed-population",
   "metadata": {},
   "outputs": [],
   "source": [
    "new_model.load_params('fitted_params.pkl')"
   ]
  },
  {
   "cell_type": "markdown",
   "id": "reduced-wallet",
   "metadata": {},
   "source": [
    "## predict posterior"
   ]
  },
  {
   "cell_type": "code",
   "execution_count": 24,
   "id": "antique-copyright",
   "metadata": {},
   "outputs": [],
   "source": [
    "new_model.predict()"
   ]
  },
  {
   "cell_type": "code",
   "execution_count": 31,
   "id": "secure-syndication",
   "metadata": {},
   "outputs": [
    {
     "data": {
      "text/plain": [
       "[<matplotlib.lines.Line2D at 0x14388bd30>]"
      ]
     },
     "execution_count": 31,
     "metadata": {},
     "output_type": "execute_result"
    },
    {
     "data": {
      "image/png": "[encoded data removed]",
      "text/plain": [
       "<Figure size 432x288 with 1 Axes>"
      ]
     },
     "metadata": {
      "needs_background": "light"
     },
     "output_type": "display_data"
    }
   ],
   "source": [
    "plt.plot(np.arange(180), new_model.predictive.mean('lamb')[2])"
   ]
  },
  {
   "cell_type": "code",
   "execution_count": 20,
   "id": "changed-customs",
   "metadata": {},
   "outputs": [
    {
     "data": {
      "text/plain": [
       "dict_keys(['G', 'R_1', 'lamb', 'lamb_1', 'lamb_1_lin', 'lamb_2', 'lamb_2_lin', 'lamb_lin', 'lineage', 'lineage_1', 'lineage_2', 'p', 'p_1', 'p_2', 'sa', 'specimen', 'specimen_1', 'specimen_2'])"
      ]
     },
     "execution_count": 20,
     "metadata": {},
     "output_type": "execute_result"
    }
   ],
   "source": [
    "model.posterior.data.keys()"
   ]
  },
  {
   "cell_type": "code",
   "execution_count": 21,
   "id": "expressed-candidate",
   "metadata": {},
   "outputs": [
    {
     "data": {
      "text/plain": [
       "array([[3.1609199e-04, 2.3877482e-01, 1.1524515e-02, 4.3757176e-01,\n",
       "        1.6306829e-01, 3.8713148e-01],\n",
       "       [3.4074727e-04, 2.4288730e-01, 1.1551401e-02, 4.3445003e-01,\n",
       "        1.6369347e-01, 3.8679874e-01],\n",
       "       [3.6815432e-04, 2.4640602e-01, 1.1611210e-02, 4.3081239e-01,\n",
       "        1.6230914e-01, 3.8672113e-01],\n",
       "       ...,\n",
       "       [9.8863029e-01, 2.0199833e-02, 9.1738789e-04, 7.5512624e-04,\n",
       "        4.0280743e-04, 1.5437577e-03],\n",
       "       [9.8933029e-01, 1.8955730e-02, 8.7320618e-04, 6.9588219e-04,\n",
       "        3.7251017e-04, 1.4310435e-03],\n",
       "       [9.8999047e-01, 1.7866626e-02, 8.2562823e-04, 6.4409961e-04,\n",
       "        3.4501890e-04, 1.3262460e-03]], dtype=float32)"
      ]
     },
     "execution_count": 21,
     "metadata": {},
     "output_type": "execute_result"
    }
   ],
   "source": [
    "model.posterior.upper('p', 1)"
   ]
  },
  {
   "cell_type": "markdown",
   "id": "duplicate-greek",
   "metadata": {},
   "source": [
    "## Plot results"
   ]
  },
  {
   "cell_type": "code",
   "execution_count": 22,
   "id": "quality-development",
   "metadata": {},
   "outputs": [],
   "source": [
    "import matplotlib.pyplot as plt"
   ]
  },
  {
   "cell_type": "code",
   "execution_count": 23,
   "id": "mediterranean-server",
   "metadata": {},
   "outputs": [],
   "source": [
    "idx = 150\n",
    "lin_idx = [0, 1, 2]"
   ]
  },
  {
   "cell_type": "code",
   "execution_count": 24,
   "id": "correct-survivor",
   "metadata": {},
   "outputs": [
    {
     "ename": "IndexError",
     "evalue": "index 150 is out of bounds for axis 1 with size 9",
     "output_type": "error",
     "traceback": [
      "\u001b[0;31m---------------------------------------------------------------------------\u001b[0m",
      "\u001b[0;31mIndexError\u001b[0m                                Traceback (most recent call last)",
      "\u001b[0;32m<ipython-input-24-47b9a88d6245>\u001b[0m in \u001b[0;36m<module>\u001b[0;34m\u001b[0m\n\u001b[1;32m      7\u001b[0m \u001b[0;34m\u001b[0m\u001b[0m\n\u001b[1;32m      8\u001b[0m \u001b[0;32mfor\u001b[0m \u001b[0ml\u001b[0m \u001b[0;32min\u001b[0m \u001b[0mlin_idx\u001b[0m\u001b[0;34m:\u001b[0m\u001b[0;34m\u001b[0m\u001b[0;34m\u001b[0m\u001b[0m\n\u001b[0;32m----> 9\u001b[0;31m     \u001b[0maxes\u001b[0m\u001b[0;34m[\u001b[0m\u001b[0;36m0\u001b[0m\u001b[0;34m]\u001b[0m\u001b[0;34m.\u001b[0m\u001b[0mplot\u001b[0m\u001b[0;34m(\u001b[0m\u001b[0mnp\u001b[0m\u001b[0;34m.\u001b[0m\u001b[0marange\u001b[0m\u001b[0;34m(\u001b[0m\u001b[0;36m180\u001b[0m\u001b[0;34m)\u001b[0m\u001b[0;34m,\u001b[0m \u001b[0mmodel\u001b[0m\u001b[0;34m.\u001b[0m\u001b[0mposterior\u001b[0m\u001b[0;34m.\u001b[0m\u001b[0mmedian\u001b[0m\u001b[0;34m(\u001b[0m\u001b[0;34m'lamb_1'\u001b[0m\u001b[0;34m,\u001b[0m \u001b[0midx\u001b[0m\u001b[0;34m,\u001b[0m \u001b[0mEllipsis\u001b[0m\u001b[0;34m,\u001b[0m \u001b[0ml\u001b[0m\u001b[0;34m)\u001b[0m\u001b[0;34m,\u001b[0m \u001b[0mcolor\u001b[0m\u001b[0;34m=\u001b[0m\u001b[0;34mf'C{l+1}'\u001b[0m\u001b[0;34m)\u001b[0m\u001b[0;34m\u001b[0m\u001b[0;34m\u001b[0m\u001b[0m\n\u001b[0m\u001b[1;32m     10\u001b[0m     \u001b[0maxes\u001b[0m\u001b[0;34m[\u001b[0m\u001b[0;36m0\u001b[0m\u001b[0;34m]\u001b[0m\u001b[0;34m.\u001b[0m\u001b[0mfill_between\u001b[0m\u001b[0;34m(\u001b[0m\u001b[0mnp\u001b[0m\u001b[0;34m.\u001b[0m\u001b[0marange\u001b[0m\u001b[0;34m(\u001b[0m\u001b[0;36m180\u001b[0m\u001b[0;34m)\u001b[0m\u001b[0;34m,\u001b[0m \u001b[0mmodel\u001b[0m\u001b[0;34m.\u001b[0m\u001b[0mposterior\u001b[0m\u001b[0;34m.\u001b[0m\u001b[0mlower\u001b[0m\u001b[0;34m(\u001b[0m\u001b[0;34m'lamb_1'\u001b[0m\u001b[0;34m,\u001b[0m \u001b[0midx\u001b[0m\u001b[0;34m,\u001b[0m \u001b[0mEllipsis\u001b[0m\u001b[0;34m,\u001b[0m \u001b[0ml\u001b[0m\u001b[0;34m)\u001b[0m\u001b[0;34m,\u001b[0m \u001b[0mmodel\u001b[0m\u001b[0;34m.\u001b[0m\u001b[0mposterior\u001b[0m\u001b[0;34m.\u001b[0m\u001b[0mupper\u001b[0m\u001b[0;34m(\u001b[0m\u001b[0;34m'lamb_1'\u001b[0m\u001b[0;34m,\u001b[0m \u001b[0midx\u001b[0m\u001b[0;34m,\u001b[0m \u001b[0mEllipsis\u001b[0m\u001b[0;34m,\u001b[0m \u001b[0ml\u001b[0m\u001b[0;34m)\u001b[0m\u001b[0;34m,\u001b[0m \u001b[0mcolor\u001b[0m\u001b[0;34m=\u001b[0m\u001b[0;34mf'C{l+1}'\u001b[0m\u001b[0;34m,\u001b[0m \u001b[0malpha\u001b[0m\u001b[0;34m=\u001b[0m\u001b[0;36m.1\u001b[0m\u001b[0;34m)\u001b[0m\u001b[0;34m\u001b[0m\u001b[0;34m\u001b[0m\u001b[0m\n\u001b[1;32m     11\u001b[0m    \u001b[0;31m# axes[0].plot(np.arange(180)[lineage_date_idx], lineages_red[idx, :, l]/lineages_red[idx].sum(-1), f'C{l+1}o')\u001b[0m\u001b[0;34m\u001b[0m\u001b[0;34m\u001b[0m\u001b[0;34m\u001b[0m\u001b[0m\n",
      "\u001b[0;32m/Volumes/MyBook/opt/genomicsurveillance/genomicsurveillance/handler.py\u001b[0m in \u001b[0;36mmedian\u001b[0;34m(self, param, *args, **kwargs)\u001b[0m\n\u001b[1;32m     31\u001b[0m     \u001b[0;32mdef\u001b[0m \u001b[0mmedian\u001b[0m\u001b[0;34m(\u001b[0m\u001b[0mself\u001b[0m\u001b[0;34m,\u001b[0m \u001b[0mparam\u001b[0m\u001b[0;34m,\u001b[0m \u001b[0;34m*\u001b[0m\u001b[0margs\u001b[0m\u001b[0;34m,\u001b[0m \u001b[0;34m**\u001b[0m\u001b[0mkwargs\u001b[0m\u001b[0;34m)\u001b[0m\u001b[0;34m:\u001b[0m\u001b[0;34m\u001b[0m\u001b[0;34m\u001b[0m\u001b[0m\n\u001b[1;32m     32\u001b[0m         \u001b[0;34m\"\"\"Returns the median of param.\"\"\"\u001b[0m\u001b[0;34m\u001b[0m\u001b[0;34m\u001b[0m\u001b[0m\n\u001b[0;32m---> 33\u001b[0;31m         \u001b[0;32mreturn\u001b[0m \u001b[0mjnp\u001b[0m\u001b[0;34m.\u001b[0m\u001b[0mmedian\u001b[0m\u001b[0;34m(\u001b[0m\u001b[0mself\u001b[0m\u001b[0;34m.\u001b[0m\u001b[0mdata\u001b[0m\u001b[0;34m[\u001b[0m\u001b[0mparam\u001b[0m\u001b[0;34m]\u001b[0m\u001b[0;34m[\u001b[0m\u001b[0mtuple\u001b[0m\u001b[0;34m(\u001b[0m\u001b[0;34m[\u001b[0m\u001b[0mslice\u001b[0m\u001b[0;34m(\u001b[0m\u001b[0;32mNone\u001b[0m\u001b[0;34m)\u001b[0m\u001b[0;34m,\u001b[0m \u001b[0;34m*\u001b[0m\u001b[0margs\u001b[0m\u001b[0;34m]\u001b[0m\u001b[0;34m)\u001b[0m\u001b[0;34m]\u001b[0m\u001b[0;34m,\u001b[0m \u001b[0maxis\u001b[0m\u001b[0;34m=\u001b[0m\u001b[0;36m0\u001b[0m\u001b[0;34m)\u001b[0m\u001b[0;34m\u001b[0m\u001b[0;34m\u001b[0m\u001b[0m\n\u001b[0m\u001b[1;32m     34\u001b[0m \u001b[0;34m\u001b[0m\u001b[0m\n\u001b[1;32m     35\u001b[0m     \u001b[0;34m@\u001b[0m\u001b[0mlru_cache\u001b[0m\u001b[0;34m(\u001b[0m\u001b[0mmaxsize\u001b[0m\u001b[0;34m=\u001b[0m\u001b[0;36m128\u001b[0m\u001b[0;34m)\u001b[0m\u001b[0;34m\u001b[0m\u001b[0;34m\u001b[0m\u001b[0m\n",
      "\u001b[0;31mIndexError\u001b[0m: index 150 is out of bounds for axis 1 with size 9"
     ]
    },
    {
     "data": {
      "image/png": "[encoded data removed]",
      "text/plain": [
       "<Figure size 432x648 with 4 Axes>"
      ]
     },
     "metadata": {
      "needs_background": "light"
     },
     "output_type": "display_data"
    }
   ],
   "source": [
    "fig, axes = plt.subplots(4,1, figsize=(6, 9), sharex=True)\n",
    "axes[0].plot(np.arange(180), cases[idx], '.')\n",
    "axes[0].plot(np.arange(180), model.posterior.median('lamb', idx), 'C0')\n",
    "axes[0].fill_between(np.arange(180), model.posterior.lower('lamb', idx), model.posterior.upper('lamb', idx), color='C0', alpha=.1)\n",
    "axes[0].set_ylabel('New cases')\n",
    "\n",
    "\n",
    "for l in lin_idx:\n",
    "    axes[0].plot(np.arange(180), model.posterior.median('lamb_1', idx, Ellipsis, l), color=f'C{l+1}')\n",
    "    axes[0].fill_between(np.arange(180), model.posterior.lower('lamb_1', idx, Ellipsis, l), model.posterior.upper('lamb_1', idx, Ellipsis, l), color=f'C{l+1}', alpha=.1)\n",
    "   # axes[0].plot(np.arange(180)[lineage_date_idx], lineages_red[idx, :, l]/lineages_red[idx].sum(-1), f'C{l+1}o')\n",
    "\n",
    "axes[1].bar(np.arange(180)[lineage_date_idx], lineages_red.sum(-1)[idx], color='C7', width=3)\n",
    "axes[1].set_ylabel('Total Genomes')\n",
    "\n",
    "ax2 = axes[1].twinx()\n",
    "\n",
    "for l in lin_idx:\n",
    "    ax2.plot(np.arange(180), model.posterior.median('p', idx, Ellipsis, l), color=f'C{l+1}')\n",
    "    ax2.fill_between(np.arange(180), model.posterior.lower('p', idx, Ellipsis, l), model.posterior.upper('p', idx, Ellipsis, l), color=f'C{l+1}', alpha=.1)\n",
    "    ax2.plot(np.arange(180)[lineage_date_idx], lineages_red[idx, :, l]/lineages_red[idx].sum(-1), f'C{l+1}o')\n",
    "\n",
    "ax2.plot(np.arange(180), model.posterior.median('p', idx, Ellipsis, -1), color=f'C9')\n",
    "ax2.fill_between(np.arange(180), model.posterior.lower('p', idx, Ellipsis, -1), model.posterior.upper('p', idx, Ellipsis, -1), color=f'C9', alpha=.1)\n",
    "ax2.plot(np.arange(180)[lineage_date_idx], lineages_red[idx, :, -1]/lineages_red[idx].sum(-1), f'C9o')\n",
    "ax2.set_ylim([0,1])\n",
    "ax2.set_ylabel('Probability (lines and dots)')\n",
    "    \n",
    "for l in lin_idx:\n",
    "    axes[2].plot(np.arange(180), model.posterior.median('R_1', idx, Ellipsis, l), color=f'C{l+1}')\n",
    "    axes[2].fill_between(np.arange(180), model.posterior.lower('R_1', idx, Ellipsis, l), model.posterior.upper('R_1', idx, Ellipsis, l), color=f'C{l+1}', alpha=.1)\n",
    "    #axes[2].plot(np.arange(180)[lineage_date_idx], lineages_red[idx, :, l]/lineages_red[idx].sum(-1), f'C{l+1}o')\n",
    "    \n",
    "axes[2].set_ylim([0.5, 4])\n",
    "axes[2].axhline(1, linestyle='--', color='k')\n",
    "axes[2].yaxis.grid(True)\n",
    "axes[2].xaxis.grid(True)\n",
    "axes[2].set_ylabel('R')\n",
    "\n",
    "\n",
    "axes[3].plot(np.arange(180), model.posterior.median('G', idx))\n",
    "axes[3].axhline(0, linestyle='--', color='k')\n",
    "axes[3].set_ylabel('Growth rate')\n",
    "axes[3].yaxis.grid(True)\n",
    "axes[3].xaxis.grid(True)"
   ]
  },
  {
   "cell_type": "code",
   "execution_count": 22,
   "id": "taken-biography",
   "metadata": {},
   "outputs": [
    {
     "data": {
      "text/plain": [
       "dict_keys(['G', 'R_1', 'lamb', 'lamb_1', 'lamb_1_lin', 'lamb_lin', 'lineage', 'lineage_1', 'p', 'p_1', 'sa', 'specimen', 'specimen_1'])"
      ]
     },
     "execution_count": 22,
     "metadata": {},
     "output_type": "execute_result"
    }
   ],
   "source": [
    "model.posterior.data.keys()"
   ]
  },
  {
   "cell_type": "code",
   "execution_count": 25,
   "id": "frozen-williams",
   "metadata": {},
   "outputs": [
    {
     "name": "stderr",
     "output_type": "stream",
     "text": [
      "<ipython-input-25-0bf2f8b78248>:24: RuntimeWarning: invalid value encountered in true_divide\n",
      "  ax2.plot(np.arange(180)[lineage_date_idx], lineages_red[idx, :, l]/lineages_red[idx].sum(-1), f'C{l+1}o')\n",
      "<ipython-input-25-0bf2f8b78248>:24: RuntimeWarning: invalid value encountered in true_divide\n",
      "  ax2.plot(np.arange(180)[lineage_date_idx], lineages_red[idx, :, l]/lineages_red[idx].sum(-1), f'C{l+1}o')\n",
      "<ipython-input-25-0bf2f8b78248>:24: RuntimeWarning: invalid value encountered in true_divide\n",
      "  ax2.plot(np.arange(180)[lineage_date_idx], lineages_red[idx, :, l]/lineages_red[idx].sum(-1), f'C{l+1}o')\n"
     ]
    },
    {
     "data": {
      "image/png": "[encoded data removed]",
      "text/plain": [
       "<Figure size 432x648 with 5 Axes>"
      ]
     },
     "metadata": {
      "needs_background": "light"
     },
     "output_type": "display_data"
    }
   ],
   "source": [
    "fig, axes = plt.subplots(4,1, figsize=(6, 9), sharex=True)\n",
    "\n",
    "idx = 4\n",
    "lin_idx=[0, 1, 2]\n",
    "axes[0].plot(np.arange(180), model.posterior.data['specimen_1'][0,idx],'C0.')\n",
    "axes[0].plot(np.arange(180), model.posterior.median('lamb_1', idx))\n",
    "axes[0].fill_between(np.arange(180), model.posterior.lower('lamb_1', idx), model.posterior.upper('lamb_1', idx), color='C0', alpha=.1)\n",
    "\n",
    "\n",
    "for l in lin_idx:\n",
    "    axes[0].plot(np.arange(180), model.posterior.median('lamb_1_lin', idx, Ellipsis, l), color=f'C{l+1}')\n",
    "    axes[0].fill_between(np.arange(180), model.posterior.lower('lamb_1_lin', idx, Ellipsis, l), model.posterior.upper('lamb_1_lin', idx, Ellipsis, l), color=f'C{l+1}', alpha=.1)\n",
    "\n",
    "    \n",
    "\n",
    "axes[1].bar(np.arange(180)[lineage_date_idx], model.posterior.data['lineage_1'][0,idx].sum(1), color='C7', width=3)\n",
    "axes[1].set_ylabel('Total Genomes')\n",
    "\n",
    "ax2 = axes[1].twinx()\n",
    "\n",
    "for l in lin_idx:\n",
    "    ax2.plot(np.arange(180), model.posterior.median('p_1', idx, Ellipsis, l), color=f'C{l+1}')\n",
    "    ax2.fill_between(np.arange(180), model.posterior.lower('p_1', idx, Ellipsis, l), model.posterior.upper('p_1', idx, Ellipsis, l), color=f'C{l+1}', alpha=.1)\n",
    "    ax2.plot(np.arange(180)[lineage_date_idx], lineages_red[idx, :, l]/lineages_red[idx].sum(-1), f'C{l+1}o')"
   ]
  },
  {
   "cell_type": "code",
   "execution_count": 22,
   "id": "cathedral-spray",
   "metadata": {},
   "outputs": [],
   "source": [
    "import tqdm"
   ]
  },
  {
   "cell_type": "code",
   "execution_count": null,
   "id": "potential-margin",
   "metadata": {},
   "outputs": [],
   "source": []
  }
 ],
 "metadata": {
  "kernelspec": {
   "display_name": "Python 3",
   "language": "python",
   "name": "python3"
  },
  "language_info": {
   "codemirror_mode": {
    "name": "ipython",
    "version": 3
   },
   "file_extension": ".py",
   "mimetype": "text/x-python",
   "name": "python",
   "nbconvert_exporter": "python",
   "pygments_lexer": "ipython3",
   "version": "3.9.1"
  }
 },
 "nbformat": 4,
 "nbformat_minor": 5
}
