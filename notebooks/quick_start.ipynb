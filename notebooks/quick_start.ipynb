{
 "cells": [
  {
   "cell_type": "code",
   "execution_count": 1,
   "id": "alone-moment",
   "metadata": {},
   "outputs": [],
   "source": [
    "import os,sys,inspect\n",
    "currentdir = os.path.dirname(os.path.abspath(inspect.getfile(inspect.currentframe())))\n",
    "parentdir = os.path.dirname(currentdir)\n",
    "sys.path.insert(0,parentdir) \n",
    "import genomicsurveillance as gs\n",
    "import pandas as pd\n",
    "import numpy as np"
   ]
  },
  {
   "cell_type": "code",
   "execution_count": 3,
   "id": "embedded-sampling",
   "metadata": {},
   "outputs": [],
   "source": [
    "from genomicsurveillance.data import *"
   ]
  },
  {
   "cell_type": "code",
   "execution_count": 4,
   "id": "fleet-rebecca",
   "metadata": {},
   "outputs": [],
   "source": [
    "uk = get_meta_data()"
   ]
  },
  {
   "cell_type": "code",
   "execution_count": 5,
   "id": "white-texture",
   "metadata": {},
   "outputs": [
    {
     "data": {
      "text/html": [
       "<div>\n",
       "<style scoped>\n",
       "    .dataframe tbody tr th:only-of-type {\n",
       "        vertical-align: middle;\n",
       "    }\n",
       "\n",
       "    .dataframe tbody tr th {\n",
       "        vertical-align: top;\n",
       "    }\n",
       "\n",
       "    .dataframe thead th {\n",
       "        text-align: right;\n",
       "    }\n",
       "</style>\n",
       "<table border=\"1\" class=\"dataframe\">\n",
       "  <thead>\n",
       "    <tr style=\"text-align: right;\">\n",
       "      <th></th>\n",
       "      <th>pop18</th>\n",
       "      <th>lad19cd</th>\n",
       "      <th>lad19nm</th>\n",
       "      <th>lad19id</th>\n",
       "      <th>utla19cd</th>\n",
       "      <th>utla19nm</th>\n",
       "      <th>utla19id</th>\n",
       "      <th>rgn19cd</th>\n",
       "      <th>rgn19nm</th>\n",
       "      <th>rgn19id</th>\n",
       "      <th>ctry19cd</th>\n",
       "      <th>ctry19nm</th>\n",
       "      <th>ctry19id</th>\n",
       "    </tr>\n",
       "  </thead>\n",
       "  <tbody>\n",
       "    <tr>\n",
       "      <th>0</th>\n",
       "      <td>93242</td>\n",
       "      <td>E06000001</td>\n",
       "      <td>Hartlepool</td>\n",
       "      <td>0</td>\n",
       "      <td>E06000001</td>\n",
       "      <td>Hartlepool</td>\n",
       "      <td>0</td>\n",
       "      <td>E12000001</td>\n",
       "      <td>North East</td>\n",
       "      <td>0</td>\n",
       "      <td>E92000001</td>\n",
       "      <td>England</td>\n",
       "      <td>0</td>\n",
       "    </tr>\n",
       "    <tr>\n",
       "      <th>1</th>\n",
       "      <td>140545</td>\n",
       "      <td>E06000002</td>\n",
       "      <td>Middlesbrough</td>\n",
       "      <td>1</td>\n",
       "      <td>E06000002</td>\n",
       "      <td>Middlesbrough</td>\n",
       "      <td>0</td>\n",
       "      <td>E12000001</td>\n",
       "      <td>North East</td>\n",
       "      <td>0</td>\n",
       "      <td>E92000001</td>\n",
       "      <td>England</td>\n",
       "      <td>0</td>\n",
       "    </tr>\n",
       "    <tr>\n",
       "      <th>2</th>\n",
       "      <td>136718</td>\n",
       "      <td>E06000003</td>\n",
       "      <td>Redcar and Cleveland</td>\n",
       "      <td>2</td>\n",
       "      <td>E06000003</td>\n",
       "      <td>Redcar and Cleveland</td>\n",
       "      <td>0</td>\n",
       "      <td>E12000001</td>\n",
       "      <td>North East</td>\n",
       "      <td>0</td>\n",
       "      <td>E92000001</td>\n",
       "      <td>England</td>\n",
       "      <td>0</td>\n",
       "    </tr>\n",
       "    <tr>\n",
       "      <th>3</th>\n",
       "      <td>197213</td>\n",
       "      <td>E06000004</td>\n",
       "      <td>Stockton-on-Tees</td>\n",
       "      <td>3</td>\n",
       "      <td>E06000004</td>\n",
       "      <td>Stockton-on-Tees</td>\n",
       "      <td>0</td>\n",
       "      <td>E12000001</td>\n",
       "      <td>North East</td>\n",
       "      <td>0</td>\n",
       "      <td>E92000001</td>\n",
       "      <td>England</td>\n",
       "      <td>0</td>\n",
       "    </tr>\n",
       "    <tr>\n",
       "      <th>4</th>\n",
       "      <td>106566</td>\n",
       "      <td>E06000005</td>\n",
       "      <td>Darlington</td>\n",
       "      <td>4</td>\n",
       "      <td>E06000005</td>\n",
       "      <td>Darlington</td>\n",
       "      <td>0</td>\n",
       "      <td>E12000001</td>\n",
       "      <td>North East</td>\n",
       "      <td>0</td>\n",
       "      <td>E92000001</td>\n",
       "      <td>England</td>\n",
       "      <td>0</td>\n",
       "    </tr>\n",
       "  </tbody>\n",
       "</table>\n",
       "</div>"
      ],
      "text/plain": [
       "    pop18    lad19cd               lad19nm  lad19id   utla19cd  \\\n",
       "0   93242  E06000001            Hartlepool        0  E06000001   \n",
       "1  140545  E06000002         Middlesbrough        1  E06000002   \n",
       "2  136718  E06000003  Redcar and Cleveland        2  E06000003   \n",
       "3  197213  E06000004      Stockton-on-Tees        3  E06000004   \n",
       "4  106566  E06000005            Darlington        4  E06000005   \n",
       "\n",
       "               utla19nm  utla19id    rgn19cd     rgn19nm  rgn19id   ctry19cd  \\\n",
       "0            Hartlepool         0  E12000001  North East        0  E92000001   \n",
       "1         Middlesbrough         0  E12000001  North East        0  E92000001   \n",
       "2  Redcar and Cleveland         0  E12000001  North East        0  E92000001   \n",
       "3      Stockton-on-Tees         0  E12000001  North East        0  E92000001   \n",
       "4            Darlington         0  E12000001  North East        0  E92000001   \n",
       "\n",
       "  ctry19nm  ctry19id  \n",
       "0  England         0  \n",
       "1  England         0  \n",
       "2  England         0  \n",
       "3  England         0  \n",
       "4  England         0  "
      ]
     },
     "execution_count": 5,
     "metadata": {},
     "output_type": "execute_result"
    }
   ],
   "source": [
    "uk.head()"
   ]
  },
  {
   "cell_type": "code",
   "execution_count": 6,
   "id": "impressive-stable",
   "metadata": {},
   "outputs": [],
   "source": [
    "eng = uk[uk.ctry19nm == 'England']"
   ]
  },
  {
   "cell_type": "markdown",
   "id": "unlikely-patrick",
   "metadata": {},
   "source": [
    "# Data preparation\n",
    "## Cases"
   ]
  },
  {
   "cell_type": "code",
   "execution_count": 7,
   "id": "considerable-envelope",
   "metadata": {},
   "outputs": [],
   "source": [
    "# cases = get_specimen() \n",
    "cases = pd.read_csv('specimen-20210304.csv', index_col=0)"
   ]
  },
  {
   "cell_type": "code",
   "execution_count": 8,
   "id": "delayed-recorder",
   "metadata": {},
   "outputs": [
    {
     "data": {
      "text/html": [
       "<div>\n",
       "<style scoped>\n",
       "    .dataframe tbody tr th:only-of-type {\n",
       "        vertical-align: middle;\n",
       "    }\n",
       "\n",
       "    .dataframe tbody tr th {\n",
       "        vertical-align: top;\n",
       "    }\n",
       "\n",
       "    .dataframe thead th {\n",
       "        text-align: right;\n",
       "    }\n",
       "</style>\n",
       "<table border=\"1\" class=\"dataframe\">\n",
       "  <thead>\n",
       "    <tr style=\"text-align: right;\">\n",
       "      <th></th>\n",
       "      <th>2020-01-03</th>\n",
       "      <th>2020-01-04</th>\n",
       "      <th>2020-01-05</th>\n",
       "      <th>2020-01-06</th>\n",
       "      <th>2020-01-07</th>\n",
       "      <th>2020-01-08</th>\n",
       "      <th>2020-01-09</th>\n",
       "      <th>2020-01-10</th>\n",
       "      <th>2020-01-11</th>\n",
       "      <th>2020-01-12</th>\n",
       "      <th>...</th>\n",
       "      <th>2021-02-22</th>\n",
       "      <th>2021-02-23</th>\n",
       "      <th>2021-02-24</th>\n",
       "      <th>2021-02-25</th>\n",
       "      <th>2021-02-26</th>\n",
       "      <th>2021-02-27</th>\n",
       "      <th>2021-02-28</th>\n",
       "      <th>2021-03-01</th>\n",
       "      <th>2021-03-02</th>\n",
       "      <th>2021-03-03</th>\n",
       "    </tr>\n",
       "  </thead>\n",
       "  <tbody>\n",
       "    <tr>\n",
       "      <th>E06000001</th>\n",
       "      <td>NaN</td>\n",
       "      <td>NaN</td>\n",
       "      <td>NaN</td>\n",
       "      <td>NaN</td>\n",
       "      <td>NaN</td>\n",
       "      <td>NaN</td>\n",
       "      <td>NaN</td>\n",
       "      <td>NaN</td>\n",
       "      <td>NaN</td>\n",
       "      <td>NaN</td>\n",
       "      <td>...</td>\n",
       "      <td>32.0</td>\n",
       "      <td>20.0</td>\n",
       "      <td>21.0</td>\n",
       "      <td>26.0</td>\n",
       "      <td>15.0</td>\n",
       "      <td>13.0</td>\n",
       "      <td>5.0</td>\n",
       "      <td>19.0</td>\n",
       "      <td>5.0</td>\n",
       "      <td>NaN</td>\n",
       "    </tr>\n",
       "    <tr>\n",
       "      <th>E06000002</th>\n",
       "      <td>NaN</td>\n",
       "      <td>NaN</td>\n",
       "      <td>NaN</td>\n",
       "      <td>NaN</td>\n",
       "      <td>NaN</td>\n",
       "      <td>NaN</td>\n",
       "      <td>NaN</td>\n",
       "      <td>NaN</td>\n",
       "      <td>NaN</td>\n",
       "      <td>NaN</td>\n",
       "      <td>...</td>\n",
       "      <td>44.0</td>\n",
       "      <td>24.0</td>\n",
       "      <td>33.0</td>\n",
       "      <td>30.0</td>\n",
       "      <td>32.0</td>\n",
       "      <td>20.0</td>\n",
       "      <td>16.0</td>\n",
       "      <td>28.0</td>\n",
       "      <td>12.0</td>\n",
       "      <td>NaN</td>\n",
       "    </tr>\n",
       "    <tr>\n",
       "      <th>E06000003</th>\n",
       "      <td>NaN</td>\n",
       "      <td>NaN</td>\n",
       "      <td>NaN</td>\n",
       "      <td>NaN</td>\n",
       "      <td>NaN</td>\n",
       "      <td>NaN</td>\n",
       "      <td>NaN</td>\n",
       "      <td>NaN</td>\n",
       "      <td>NaN</td>\n",
       "      <td>NaN</td>\n",
       "      <td>...</td>\n",
       "      <td>31.0</td>\n",
       "      <td>16.0</td>\n",
       "      <td>25.0</td>\n",
       "      <td>16.0</td>\n",
       "      <td>12.0</td>\n",
       "      <td>15.0</td>\n",
       "      <td>11.0</td>\n",
       "      <td>18.0</td>\n",
       "      <td>6.0</td>\n",
       "      <td>NaN</td>\n",
       "    </tr>\n",
       "    <tr>\n",
       "      <th>E06000004</th>\n",
       "      <td>NaN</td>\n",
       "      <td>NaN</td>\n",
       "      <td>NaN</td>\n",
       "      <td>NaN</td>\n",
       "      <td>NaN</td>\n",
       "      <td>NaN</td>\n",
       "      <td>NaN</td>\n",
       "      <td>NaN</td>\n",
       "      <td>NaN</td>\n",
       "      <td>NaN</td>\n",
       "      <td>...</td>\n",
       "      <td>48.0</td>\n",
       "      <td>32.0</td>\n",
       "      <td>43.0</td>\n",
       "      <td>36.0</td>\n",
       "      <td>23.0</td>\n",
       "      <td>24.0</td>\n",
       "      <td>19.0</td>\n",
       "      <td>28.0</td>\n",
       "      <td>8.0</td>\n",
       "      <td>NaN</td>\n",
       "    </tr>\n",
       "    <tr>\n",
       "      <th>E06000005</th>\n",
       "      <td>NaN</td>\n",
       "      <td>NaN</td>\n",
       "      <td>NaN</td>\n",
       "      <td>NaN</td>\n",
       "      <td>NaN</td>\n",
       "      <td>NaN</td>\n",
       "      <td>NaN</td>\n",
       "      <td>NaN</td>\n",
       "      <td>NaN</td>\n",
       "      <td>NaN</td>\n",
       "      <td>...</td>\n",
       "      <td>42.0</td>\n",
       "      <td>7.0</td>\n",
       "      <td>22.0</td>\n",
       "      <td>22.0</td>\n",
       "      <td>24.0</td>\n",
       "      <td>10.0</td>\n",
       "      <td>7.0</td>\n",
       "      <td>24.0</td>\n",
       "      <td>9.0</td>\n",
       "      <td>NaN</td>\n",
       "    </tr>\n",
       "  </tbody>\n",
       "</table>\n",
       "<p>5 rows × 426 columns</p>\n",
       "</div>"
      ],
      "text/plain": [
       "           2020-01-03  2020-01-04  2020-01-05  2020-01-06  2020-01-07  \\\n",
       "E06000001         NaN         NaN         NaN         NaN         NaN   \n",
       "E06000002         NaN         NaN         NaN         NaN         NaN   \n",
       "E06000003         NaN         NaN         NaN         NaN         NaN   \n",
       "E06000004         NaN         NaN         NaN         NaN         NaN   \n",
       "E06000005         NaN         NaN         NaN         NaN         NaN   \n",
       "\n",
       "           2020-01-08  2020-01-09  2020-01-10  2020-01-11  2020-01-12  ...  \\\n",
       "E06000001         NaN         NaN         NaN         NaN         NaN  ...   \n",
       "E06000002         NaN         NaN         NaN         NaN         NaN  ...   \n",
       "E06000003         NaN         NaN         NaN         NaN         NaN  ...   \n",
       "E06000004         NaN         NaN         NaN         NaN         NaN  ...   \n",
       "E06000005         NaN         NaN         NaN         NaN         NaN  ...   \n",
       "\n",
       "           2021-02-22  2021-02-23  2021-02-24  2021-02-25  2021-02-26  \\\n",
       "E06000001        32.0        20.0        21.0        26.0        15.0   \n",
       "E06000002        44.0        24.0        33.0        30.0        32.0   \n",
       "E06000003        31.0        16.0        25.0        16.0        12.0   \n",
       "E06000004        48.0        32.0        43.0        36.0        23.0   \n",
       "E06000005        42.0         7.0        22.0        22.0        24.0   \n",
       "\n",
       "           2021-02-27  2021-02-28  2021-03-01  2021-03-02  2021-03-03  \n",
       "E06000001        13.0         5.0        19.0         5.0         NaN  \n",
       "E06000002        20.0        16.0        28.0        12.0         NaN  \n",
       "E06000003        15.0        11.0        18.0         6.0         NaN  \n",
       "E06000004        24.0        19.0        28.0         8.0         NaN  \n",
       "E06000005        10.0         7.0        24.0         9.0         NaN  \n",
       "\n",
       "[5 rows x 426 columns]"
      ]
     },
     "execution_count": 8,
     "metadata": {},
     "output_type": "execute_result"
    }
   ],
   "source": [
    "cases.head()"
   ]
  },
  {
   "cell_type": "code",
   "execution_count": 9,
   "id": "included-storm",
   "metadata": {},
   "outputs": [],
   "source": [
    "cases = eng.merge(cases, left_on='lad19cd', right_index=True, how='left').iloc[:, -184:-4].values"
   ]
  },
  {
   "cell_type": "markdown",
   "id": "adapted-japan",
   "metadata": {},
   "source": [
    "## Lineages"
   ]
  },
  {
   "cell_type": "code",
   "execution_count": 10,
   "id": "accepting-creek",
   "metadata": {},
   "outputs": [],
   "source": [
    "lineages = (pd.read_csv('latest.txt', index_col=0)\n",
    "            .melt(\"WeekEndDate\", var_name=\"loc\", value_name=\"samples\")\n",
    "            .assign(location=lambda df: df[\"loc\"].apply(lambda x: x.split(\"_\")[0]))\n",
    "            .assign(lineage=lambda df: df[\"loc\"].apply(lambda x: \"_\".join(x.split(\"_\")[1:])))\n",
    "            .drop(\"loc\", 1))"
   ]
  },
  {
   "cell_type": "code",
   "execution_count": 11,
   "id": "circular-robinson",
   "metadata": {},
   "outputs": [],
   "source": [
    "lineage_dates = lineages.WeekEndDate.unique().tolist()\n",
    "lineages_types = lineages.lineage.unique().tolist()"
   ]
  },
  {
   "cell_type": "code",
   "execution_count": 12,
   "id": "brief-vietnam",
   "metadata": {},
   "outputs": [],
   "source": [
    "lineages = np.stack([\n",
    "    (lineages[lineages.lineage == lineages_types[i]]\n",
    "     .pivot(values=\"samples\", index=\"location\", columns=\"WeekEndDate\")\n",
    "     .merge(eng, left_index=True, right_on='lad19cd', how='right')\n",
    "     .loc[:, lineage_dates[2:]]\n",
    "     .values\n",
    "    )\n",
    "     for i in range(0, len(lineages_types))], -1\n",
    ")"
   ]
  },
  {
   "cell_type": "code",
   "execution_count": 14,
   "id": "statistical-defensive",
   "metadata": {},
   "outputs": [],
   "source": [
    "lineage_date_idx = np.array([gs.create_date_list(cases.shape[1], '2020-09-01').index(date) for date in lineage_dates[2:]])"
   ]
  },
  {
   "cell_type": "code",
   "execution_count": 18,
   "id": "spoken-camel",
   "metadata": {},
   "outputs": [],
   "source": [
    "max_lineages = 20\n",
    "lineages_red = np.concatenate([lineages[..., :max_lineages], lineages[..., max_lineages:].sum(-1, keepdims=True)], -1)"
   ]
  },
  {
   "cell_type": "code",
   "execution_count": 19,
   "id": "hired-sleep",
   "metadata": {},
   "outputs": [],
   "source": [
    "model = gs.IndependentMultiLineage(cases, lineages_red, lineage_date_idx, eng.pop18.values, tau=5, rng_key=343)"
   ]
  },
  {
   "cell_type": "code",
   "execution_count": 20,
   "id": "based-cannon",
   "metadata": {},
   "outputs": [
    {
     "name": "stdout",
     "output_type": "stream",
     "text": [
      "(315, 20)\n",
      "(315, 20)\n",
      "(315, 20)\n"
     ]
    }
   ],
   "source": [
    "model.fit()"
   ]
  },
  {
   "cell_type": "code",
   "execution_count": 23,
   "id": "comparable-burke",
   "metadata": {},
   "outputs": [
    {
     "data": {
      "text/plain": [
       "dict_keys(['G', 'R_1', 'lamb', 'lamb_1', 'lineage', 'p', 'sa', 'specimen'])"
      ]
     },
     "execution_count": 23,
     "metadata": {},
     "output_type": "execute_result"
    }
   ],
   "source": [
    "model.posterior"
   ]
  },
  {
   "cell_type": "markdown",
   "id": "approximate-somalia",
   "metadata": {},
   "source": [
    "## Plot results"
   ]
  },
  {
   "cell_type": "code",
   "execution_count": 26,
   "id": "blind-session",
   "metadata": {},
   "outputs": [],
   "source": [
    "import matplotlib.pyplot as plt"
   ]
  },
  {
   "cell_type": "code",
   "execution_count": 62,
   "id": "viral-secretariat",
   "metadata": {},
   "outputs": [],
   "source": [
    "idx = 150\n",
    "lin_idx = [0, 1, 2]"
   ]
  },
  {
   "cell_type": "code",
   "execution_count": 63,
   "id": "regulation-consensus",
   "metadata": {},
   "outputs": [
    {
     "name": "stderr",
     "output_type": "stream",
     "text": [
      "<ipython-input-63-47b9a88d6245>:21: RuntimeWarning: invalid value encountered in true_divide\n",
      "  ax2.plot(np.arange(180)[lineage_date_idx], lineages_red[idx, :, l]/lineages_red[idx].sum(-1), f'C{l+1}o')\n",
      "<ipython-input-63-47b9a88d6245>:21: RuntimeWarning: invalid value encountered in true_divide\n",
      "  ax2.plot(np.arange(180)[lineage_date_idx], lineages_red[idx, :, l]/lineages_red[idx].sum(-1), f'C{l+1}o')\n",
      "<ipython-input-63-47b9a88d6245>:21: RuntimeWarning: invalid value encountered in true_divide\n",
      "  ax2.plot(np.arange(180)[lineage_date_idx], lineages_red[idx, :, l]/lineages_red[idx].sum(-1), f'C{l+1}o')\n",
      "<ipython-input-63-47b9a88d6245>:25: RuntimeWarning: invalid value encountered in true_divide\n",
      "  ax2.plot(np.arange(180)[lineage_date_idx], lineages_red[idx, :, -1]/lineages_red[idx].sum(-1), f'C9o')\n"
     ]
    },
    {
     "data": {
      "image/png": "[encoded data removed]",
      "text/plain": [
       "<Figure size 432x648 with 5 Axes>"
      ]
     },
     "metadata": {
      "needs_background": "light"
     },
     "output_type": "display_data"
    }
   ],
   "source": [
    "fig, axes = plt.subplots(4,1, figsize=(6, 9), sharex=True)\n",
    "axes[0].plot(np.arange(180), cases[idx], '.')\n",
    "axes[0].plot(np.arange(180), model.posterior.median('lamb', idx), 'C0')\n",
    "axes[0].fill_between(np.arange(180), model.posterior.lower('lamb', idx), model.posterior.upper('lamb', idx), color='C0', alpha=.1)\n",
    "axes[0].set_ylabel('New cases')\n",
    "\n",
    "\n",
    "for l in lin_idx:\n",
    "    axes[0].plot(np.arange(180), model.posterior.median('lamb_1', idx, Ellipsis, l), color=f'C{l+1}')\n",
    "    axes[0].fill_between(np.arange(180), model.posterior.lower('lamb_1', idx, Ellipsis, l), model.posterior.upper('lamb_1', idx, Ellipsis, l), color=f'C{l+1}', alpha=.1)\n",
    "   # axes[0].plot(np.arange(180)[lineage_date_idx], lineages_red[idx, :, l]/lineages_red[idx].sum(-1), f'C{l+1}o')\n",
    "\n",
    "axes[1].bar(np.arange(180)[lineage_date_idx], lineages_red.sum(-1)[idx], color='C7', width=3)\n",
    "axes[1].set_ylabel('Total Genomes')\n",
    "\n",
    "ax2 = axes[1].twinx()\n",
    "\n",
    "for l in lin_idx:\n",
    "    ax2.plot(np.arange(180), model.posterior.median('p', idx, Ellipsis, l), color=f'C{l+1}')\n",
    "    ax2.fill_between(np.arange(180), model.posterior.lower('p', idx, Ellipsis, l), model.posterior.upper('p', idx, Ellipsis, l), color=f'C{l+1}', alpha=.1)\n",
    "    ax2.plot(np.arange(180)[lineage_date_idx], lineages_red[idx, :, l]/lineages_red[idx].sum(-1), f'C{l+1}o')\n",
    "\n",
    "ax2.plot(np.arange(180), model.posterior.median('p', idx, Ellipsis, -1), color=f'C9')\n",
    "ax2.fill_between(np.arange(180), model.posterior.lower('p', idx, Ellipsis, -1), model.posterior.upper('p', idx, Ellipsis, -1), color=f'C9', alpha=.1)\n",
    "ax2.plot(np.arange(180)[lineage_date_idx], lineages_red[idx, :, -1]/lineages_red[idx].sum(-1), f'C9o')\n",
    "ax2.set_ylim([0,1])\n",
    "ax2.set_ylabel('Probability (lines and dots)')\n",
    "    \n",
    "for l in lin_idx:\n",
    "    axes[2].plot(np.arange(180), model.posterior.median('R_1', idx, Ellipsis, l), color=f'C{l+1}')\n",
    "    axes[2].fill_between(np.arange(180), model.posterior.lower('R_1', idx, Ellipsis, l), model.posterior.upper('R_1', idx, Ellipsis, l), color=f'C{l+1}', alpha=.1)\n",
    "    #axes[2].plot(np.arange(180)[lineage_date_idx], lineages_red[idx, :, l]/lineages_red[idx].sum(-1), f'C{l+1}o')\n",
    "    \n",
    "axes[2].set_ylim([0.5, 4])\n",
    "axes[2].axhline(1, linestyle='--', color='k')\n",
    "axes[2].yaxis.grid(True)\n",
    "axes[2].xaxis.grid(True)\n",
    "axes[2].set_ylabel('R')\n",
    "\n",
    "\n",
    "axes[3].plot(np.arange(180), model.posterior.median('G', idx))\n",
    "axes[3].axhline(0, linestyle='--', color='k')\n",
    "axes[3].set_ylabel('Growth rate')\n",
    "axes[3].yaxis.grid(True)\n",
    "axes[3].xaxis.grid(True)"
   ]
  },
  {
   "cell_type": "code",
   "execution_count": 51,
   "id": "thorough-burning",
   "metadata": {},
   "outputs": [
    {
     "data": {
      "text/plain": [
       "(180,)"
      ]
     },
     "execution_count": 51,
     "metadata": {},
     "output_type": "execute_result"
    }
   ],
   "source": []
  },
  {
   "cell_type": "code",
   "execution_count": null,
   "id": "geological-dakota",
   "metadata": {},
   "outputs": [],
   "source": []
  }
 ],
 "metadata": {
  "kernelspec": {
   "display_name": "Python 3",
   "language": "python",
   "name": "python3"
  },
  "language_info": {
   "codemirror_mode": {
    "name": "ipython",
    "version": 3
   },
   "file_extension": ".py",
   "mimetype": "text/x-python",
   "name": "python",
   "nbconvert_exporter": "python",
   "pygments_lexer": "ipython3",
   "version": "3.9.1"
  }
 },
 "nbformat": 4,
 "nbformat_minor": 5
}
